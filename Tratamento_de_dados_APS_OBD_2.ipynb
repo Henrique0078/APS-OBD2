{
  "cells": [
    {
      "cell_type": "markdown",
      "metadata": {
        "colab_type": "text",
        "id": "view-in-github"
      },
      "source": [
        "<a href=\"https://colab.research.google.com/github/Henrique0078/APS-OBD2/blob/main/Tratamento_de_dados_APS_OBD_2.ipynb\" target=\"_parent\"><img src=\"https://colab.research.google.com/assets/colab-badge.svg\" alt=\"Open In Colab\"/></a>"
      ]
    },
    {
      "cell_type": "code",
      "execution_count": null,
      "metadata": {
        "id": "MFzEHPo0BOJp"
      },
      "outputs": [],
      "source": [
        "#Database = https://github.com/eron93br/carOBD"
      ]
    },
    {
      "cell_type": "code",
      "execution_count": 1,
      "metadata": {
        "id": "3Zq3NfwHYyHp"
      },
      "outputs": [],
      "source": [
        "import pandas as pd\n",
        "import numpy as np"
      ]
    },
    {
      "cell_type": "code",
      "execution_count": 2,
      "metadata": {
        "id": "J5p3r68b-zU7"
      },
      "outputs": [],
      "source": [
        "def lista_de_arquivo(valor,arquivo):\n",
        "  listas = []\n",
        "  for i in range(1, valor + 1):\n",
        "    lista = pd.read_csv(f'/content/{arquivo}{i}.csv')\n",
        "    listas.append(lista)\n",
        "\n",
        "  lista_concatenada = pd.concat(listas, ignore_index=True)\n",
        "\n",
        "  return lista_concatenada"
      ]
    },
    {
      "cell_type": "code",
      "execution_count": 3,
      "metadata": {
        "colab": {
          "base_uri": "https://localhost:8080/"
        },
        "id": "uwA3vuS85tJS",
        "outputId": "9dfb7495-cc4b-4e6f-fdb0-84237480bf66"
      },
      "outputs": [
        {
          "data": {
            "text/plain": [
              "72226"
            ]
          },
          "execution_count": 3,
          "metadata": {},
          "output_type": "execute_result"
        }
      ],
      "source": [
        "idle = lista_de_arquivo(47,'idle')\n",
        "len(idle)"
      ]
    },
    {
      "cell_type": "code",
      "execution_count": 4,
      "metadata": {
        "colab": {
          "base_uri": "https://localhost:8080/"
        },
        "id": "HgUeOdqdq6uq",
        "outputId": "59fa8e64-d870-4fae-dfdc-740552673a0e"
      },
      "outputs": [
        {
          "data": {
            "text/plain": [
              "60947"
            ]
          },
          "execution_count": 4,
          "metadata": {},
          "output_type": "execute_result"
        }
      ],
      "source": [
        "long = lista_de_arquivo(12,'long')\n",
        "len(long)"
      ]
    },
    {
      "cell_type": "code",
      "execution_count": 5,
      "metadata": {
        "colab": {
          "base_uri": "https://localhost:8080/"
        },
        "id": "HVaLLaeL8212",
        "outputId": "c7a30696-481a-45f3-8946-8d322d8a87b4"
      },
      "outputs": [
        {
          "data": {
            "text/plain": [
              "34066"
            ]
          },
          "execution_count": 5,
          "metadata": {},
          "output_type": "execute_result"
        }
      ],
      "source": [
        "ufpe = lista_de_arquivo(18,'ufpe')\n",
        "len(ufpe)"
      ]
    },
    {
      "cell_type": "code",
      "execution_count": 6,
      "metadata": {
        "colab": {
          "base_uri": "https://localhost:8080/"
        },
        "id": "HZ1YQNH-9DCo",
        "outputId": "e381bfa7-106f-4eed-b5f5-17f12658a0e4"
      },
      "outputs": [
        {
          "data": {
            "text/plain": [
              "39779"
            ]
          },
          "execution_count": 6,
          "metadata": {},
          "output_type": "execute_result"
        }
      ],
      "source": [
        "drive = lista_de_arquivo(13,'drive')\n",
        "len(drive)"
      ]
    },
    {
      "cell_type": "code",
      "execution_count": 7,
      "metadata": {
        "colab": {
          "base_uri": "https://localhost:8080/"
        },
        "id": "_Ojev1ab9R5S",
        "outputId": "f8ec9b06-524a-46ff-9271-38f270ac17b1"
      },
      "outputs": [
        {
          "data": {
            "text/plain": [
              "97281"
            ]
          },
          "execution_count": 7,
          "metadata": {},
          "output_type": "execute_result"
        }
      ],
      "source": [
        "live = lista_de_arquivo(39,'live')\n",
        "len(live)"
      ]
    },
    {
      "cell_type": "code",
      "execution_count": 8,
      "metadata": {
        "colab": {
          "base_uri": "https://localhost:8080/"
        },
        "id": "I8Jqze1l9e07",
        "outputId": "d4ddf964-0899-45ca-e8bc-a052d1b6305b"
      },
      "outputs": [
        {
          "data": {
            "text/plain": [
              "304299"
            ]
          },
          "execution_count": 8,
          "metadata": {},
          "output_type": "execute_result"
        }
      ],
      "source": [
        "soma = len(idle) + len(long) + len(ufpe) + len(drive) + len(live)\n",
        "soma"
      ]
    },
    {
      "cell_type": "code",
      "execution_count": 9,
      "metadata": {
        "id": "Pd08uoh0-I3W"
      },
      "outputs": [],
      "source": [
        "idleO2 = idle['FUEL_AIR_COMMANDED_EQUIV_RATIO ()']\n",
        "longO2 = long['FUEL_AIR_COMMANDED_EQUIV_RATIO ()']\n",
        "ufpeO2 = ufpe['FUEL_AIR_COMMANDED_EQUIV_RATIO ()']\n",
        "driveO2 = drive['FUEL_AIR_COMMANDED_EQUIV_RATIO ()']\n",
        "liveO2 = live['FUEL_AIR_COMMANDED_EQUIV_RATIO ()']\n",
        "\n",
        "listaO2 = []\n",
        "listaO2.append(idleO2)\n",
        "listaO2.append(longO2)\n",
        "listaO2.append(ufpeO2)\n",
        "listaO2.append(driveO2)\n",
        "listaO2.append(liveO2)\n",
        "listaO2_concatenada = pd.concat(listaO2, ignore_index=True)"
      ]
    },
    {
      "cell_type": "code",
      "execution_count": 10,
      "metadata": {
        "id": "fACo6e8aCcdj"
      },
      "outputs": [],
      "source": [
        "listaO2_concatenada\n",
        "\n",
        "listateste = []\n",
        "for i in listaO2_concatenada:\n",
        "  listateste.append(i)\n",
        "\n",
        "base_dados = []\n",
        "for i in listateste:\n",
        "  if i > 100:\n",
        "    base_dados.append(1)\n",
        "  else:\n",
        "    base_dados.append(0)"
      ]
    },
    {
      "cell_type": "code",
      "execution_count": 11,
      "metadata": {
        "colab": {
          "base_uri": "https://localhost:8080/"
        },
        "id": "3J8kfEedCeI7",
        "outputId": "116c2a92-4acc-4890-dfeb-e7cb58ced439"
      },
      "outputs": [
        {
          "data": {
            "text/plain": [
              "(array([0, 1]), array([121685, 182614]))"
            ]
          },
          "execution_count": 11,
          "metadata": {},
          "output_type": "execute_result"
        }
      ],
      "source": [
        "automotive_O2_tratado = np.array(base_dados)\n",
        "np.unique(automotive_O2_tratado, return_counts=True)"
      ]
    },
    {
      "cell_type": "code",
      "execution_count": 12,
      "metadata": {
        "id": "rTggLLak-4mE"
      },
      "outputs": [],
      "source": [
        "automotive_O2_tratado = np.append(automotive_O2_tratado, 1)"
      ]
    },
    {
      "cell_type": "code",
      "execution_count": 13,
      "metadata": {
        "colab": {
          "base_uri": "https://localhost:8080/"
        },
        "id": "owaKLmCn-55m",
        "outputId": "95e29672-e773-4198-fea6-46bd558a3749"
      },
      "outputs": [
        {
          "data": {
            "text/plain": [
              "304300"
            ]
          },
          "execution_count": 13,
          "metadata": {},
          "output_type": "execute_result"
        }
      ],
      "source": [
        "len(automotive_O2_tratado)"
      ]
    },
    {
      "cell_type": "code",
      "execution_count": 14,
      "metadata": {
        "id": "uCCcM9Lb-8fz"
      },
      "outputs": [],
      "source": [
        "automotive_O2_distribuido = np.reshape(automotive_O2_tratado, (-1, 10))"
      ]
    },
    {
      "cell_type": "code",
      "execution_count": 15,
      "metadata": {
        "colab": {
          "base_uri": "https://localhost:8080/"
        },
        "id": "46D3QJ94_Aej",
        "outputId": "81b7d41c-13fc-49ea-e78a-a9b3ed1bbb00"
      },
      "outputs": [
        {
          "data": {
            "text/plain": [
              "(30430, 10)"
            ]
          },
          "execution_count": 15,
          "metadata": {},
          "output_type": "execute_result"
        }
      ],
      "source": [
        "automotive_O2_distribuido.shape"
      ]
    },
    {
      "cell_type": "code",
      "execution_count": 78,
      "metadata": {
        "id": "PUwrsSOn_IiD"
      },
      "outputs": [],
      "source": [
        "soma_10_colunas = np.sum(automotive_O2_distribuido[:, :10], axis=1)\n",
        "\n",
        "y = soma_10_colunas"
      ]
    },
    {
      "cell_type": "code",
      "execution_count": 68,
      "metadata": {
        "colab": {
          "base_uri": "https://localhost:8080/"
        },
        "id": "BmaLK5AgAUHC",
        "outputId": "16ac0a69-4bae-4224-8e74-4a3b417ad10f"
      },
      "outputs": [
        {
          "data": {
            "text/plain": [
              "30430"
            ]
          },
          "execution_count": 68,
          "metadata": {},
          "output_type": "execute_result"
        }
      ],
      "source": [
        "len(y)"
      ]
    },
    {
      "cell_type": "code",
      "execution_count": 19,
      "metadata": {
        "colab": {
          "base_uri": "https://localhost:8080/"
        },
        "id": "qZN0rSnXBot-",
        "outputId": "5cbde577-377e-4028-f693-e694cfb02fcc"
      },
      "outputs": [
        {
          "data": {
            "text/plain": [
              "0.5991455800197174"
            ]
          },
          "execution_count": 19,
          "metadata": {},
          "output_type": "execute_result"
        }
      ],
      "source": [
        "18232/30430 #Esse é o percentual minimo que a IA tem que ter"
      ]
    },
    {
      "cell_type": "code",
      "execution_count": 20,
      "metadata": {
        "id": "kbrI-AedB-XV"
      },
      "outputs": [],
      "source": [
        "from sklearn.model_selection import train_test_split"
      ]
    },
    {
      "cell_type": "code",
      "execution_count": 21,
      "metadata": {
        "id": "IIERzmxrB7LN"
      },
      "outputs": [],
      "source": [
        "x_train, x_test, y_train, y_test = train_test_split(automotive_O2_distribuido, y, test_size = 0.25, random_state = 0)"
      ]
    },
    {
      "cell_type": "code",
      "execution_count": 22,
      "metadata": {
        "colab": {
          "base_uri": "https://localhost:8080/"
        },
        "id": "V9ZKj3knCOjW",
        "outputId": "f2211045-f7bc-4f53-88c5-87cd00f512e5"
      },
      "outputs": [
        {
          "data": {
            "text/plain": [
              "(22822, 10)"
            ]
          },
          "execution_count": 22,
          "metadata": {},
          "output_type": "execute_result"
        }
      ],
      "source": [
        "x_train.shape"
      ]
    },
    {
      "cell_type": "code",
      "execution_count": 23,
      "metadata": {
        "colab": {
          "base_uri": "https://localhost:8080/"
        },
        "id": "AR5QQUTTCQ1M",
        "outputId": "fedfb7bc-66d5-47fc-8e2b-16ed7d72907a"
      },
      "outputs": [
        {
          "data": {
            "text/plain": [
              "(7608, 10)"
            ]
          },
          "execution_count": 23,
          "metadata": {},
          "output_type": "execute_result"
        }
      ],
      "source": [
        "x_test.shape"
      ]
    },
    {
      "cell_type": "code",
      "execution_count": 24,
      "metadata": {
        "colab": {
          "base_uri": "https://localhost:8080/"
        },
        "id": "TyNWM2bKCSv7",
        "outputId": "c6716734-4bf3-4cbf-ce97-842bdd4b019d"
      },
      "outputs": [
        {
          "data": {
            "text/plain": [
              "(22822,)"
            ]
          },
          "execution_count": 24,
          "metadata": {},
          "output_type": "execute_result"
        }
      ],
      "source": [
        "y_train.shape"
      ]
    },
    {
      "cell_type": "code",
      "execution_count": 25,
      "metadata": {
        "colab": {
          "base_uri": "https://localhost:8080/"
        },
        "id": "MBu6eSLNCXs7",
        "outputId": "b7744a05-48ec-4cc7-a4b7-32fd37c30f18"
      },
      "outputs": [
        {
          "data": {
            "text/plain": [
              "(7608,)"
            ]
          },
          "execution_count": 25,
          "metadata": {},
          "output_type": "execute_result"
        }
      ],
      "source": [
        "y_test.shape"
      ]
    },
    {
      "cell_type": "code",
      "execution_count": 26,
      "metadata": {
        "id": "miKCjqJwCWds"
      },
      "outputs": [],
      "source": [
        "import pickle\n",
        "with open('O2_dataset.pkl', mode = 'wb') as f:\n",
        "  pickle.dump([x_train, y_train, x_test, y_test], f)\n",
        "\n",
        "#Aqui eu basicamente salvei a base de dados num arquivo."
      ]
    },
    {
      "cell_type": "code",
      "execution_count": 31,
      "metadata": {
        "id": "wVuv5oD6v_vm"
      },
      "outputs": [],
      "source": [
        "import pickle"
      ]
    },
    {
      "cell_type": "code",
      "execution_count": null,
      "metadata": {
        "id": "DXhSdq-nC7Va"
      },
      "outputs": [],
      "source": [
        "import pickle\n",
        "\n",
        "with open('O2_dataset.pkl', 'rb') as f:\n",
        "    x_train, y_train, x_test, y_test = pickle.load(f)\n",
        "##Usar somente quando nao tiver as variaveis carregadas, pois se ja tiverem ele da erro"
      ]
    },
    {
      "cell_type": "code",
      "execution_count": 35,
      "metadata": {
        "id": "iVtxW6Kqw-Ik"
      },
      "outputs": [],
      "source": [
        "from sklearn.svm import SVC\n",
        "from sklearn.metrics import accuracy_score, classification_report"
      ]
    },
    {
      "cell_type": "code",
      "execution_count": 52,
      "metadata": {
        "id": "GKX6LVBYxIOA"
      },
      "outputs": [],
      "source": [
        "svm_model = SVC(random_state=1)"
      ]
    },
    {
      "cell_type": "code",
      "execution_count": 53,
      "metadata": {
        "colab": {
          "base_uri": "https://localhost:8080/",
          "height": 75
        },
        "id": "hCCrnCkUxOzy",
        "outputId": "f49dea65-5cc1-4a9e-a435-7a4fa5a1a190"
      },
      "outputs": [
        {
          "data": {
            "text/html": [
              "<style>#sk-container-id-5 {color: black;background-color: white;}#sk-container-id-5 pre{padding: 0;}#sk-container-id-5 div.sk-toggleable {background-color: white;}#sk-container-id-5 label.sk-toggleable__label {cursor: pointer;display: block;width: 100%;margin-bottom: 0;padding: 0.3em;box-sizing: border-box;text-align: center;}#sk-container-id-5 label.sk-toggleable__label-arrow:before {content: \"▸\";float: left;margin-right: 0.25em;color: #696969;}#sk-container-id-5 label.sk-toggleable__label-arrow:hover:before {color: black;}#sk-container-id-5 div.sk-estimator:hover label.sk-toggleable__label-arrow:before {color: black;}#sk-container-id-5 div.sk-toggleable__content {max-height: 0;max-width: 0;overflow: hidden;text-align: left;background-color: #f0f8ff;}#sk-container-id-5 div.sk-toggleable__content pre {margin: 0.2em;color: black;border-radius: 0.25em;background-color: #f0f8ff;}#sk-container-id-5 input.sk-toggleable__control:checked~div.sk-toggleable__content {max-height: 200px;max-width: 100%;overflow: auto;}#sk-container-id-5 input.sk-toggleable__control:checked~label.sk-toggleable__label-arrow:before {content: \"▾\";}#sk-container-id-5 div.sk-estimator input.sk-toggleable__control:checked~label.sk-toggleable__label {background-color: #d4ebff;}#sk-container-id-5 div.sk-label input.sk-toggleable__control:checked~label.sk-toggleable__label {background-color: #d4ebff;}#sk-container-id-5 input.sk-hidden--visually {border: 0;clip: rect(1px 1px 1px 1px);clip: rect(1px, 1px, 1px, 1px);height: 1px;margin: -1px;overflow: hidden;padding: 0;position: absolute;width: 1px;}#sk-container-id-5 div.sk-estimator {font-family: monospace;background-color: #f0f8ff;border: 1px dotted black;border-radius: 0.25em;box-sizing: border-box;margin-bottom: 0.5em;}#sk-container-id-5 div.sk-estimator:hover {background-color: #d4ebff;}#sk-container-id-5 div.sk-parallel-item::after {content: \"\";width: 100%;border-bottom: 1px solid gray;flex-grow: 1;}#sk-container-id-5 div.sk-label:hover label.sk-toggleable__label {background-color: #d4ebff;}#sk-container-id-5 div.sk-serial::before {content: \"\";position: absolute;border-left: 1px solid gray;box-sizing: border-box;top: 0;bottom: 0;left: 50%;z-index: 0;}#sk-container-id-5 div.sk-serial {display: flex;flex-direction: column;align-items: center;background-color: white;padding-right: 0.2em;padding-left: 0.2em;position: relative;}#sk-container-id-5 div.sk-item {position: relative;z-index: 1;}#sk-container-id-5 div.sk-parallel {display: flex;align-items: stretch;justify-content: center;background-color: white;position: relative;}#sk-container-id-5 div.sk-item::before, #sk-container-id-5 div.sk-parallel-item::before {content: \"\";position: absolute;border-left: 1px solid gray;box-sizing: border-box;top: 0;bottom: 0;left: 50%;z-index: -1;}#sk-container-id-5 div.sk-parallel-item {display: flex;flex-direction: column;z-index: 1;position: relative;background-color: white;}#sk-container-id-5 div.sk-parallel-item:first-child::after {align-self: flex-end;width: 50%;}#sk-container-id-5 div.sk-parallel-item:last-child::after {align-self: flex-start;width: 50%;}#sk-container-id-5 div.sk-parallel-item:only-child::after {width: 0;}#sk-container-id-5 div.sk-dashed-wrapped {border: 1px dashed gray;margin: 0 0.4em 0.5em 0.4em;box-sizing: border-box;padding-bottom: 0.4em;background-color: white;}#sk-container-id-5 div.sk-label label {font-family: monospace;font-weight: bold;display: inline-block;line-height: 1.2em;}#sk-container-id-5 div.sk-label-container {text-align: center;}#sk-container-id-5 div.sk-container {/* jupyter's `normalize.less` sets `[hidden] { display: none; }` but bootstrap.min.css set `[hidden] { display: none !important; }` so we also need the `!important` here to be able to override the default hidden behavior on the sphinx rendered scikit-learn.org. See: https://github.com/scikit-learn/scikit-learn/issues/21755 */display: inline-block !important;position: relative;}#sk-container-id-5 div.sk-text-repr-fallback {display: none;}</style><div id=\"sk-container-id-5\" class=\"sk-top-container\"><div class=\"sk-text-repr-fallback\"><pre>SVC(random_state=1)</pre><b>In a Jupyter environment, please rerun this cell to show the HTML representation or trust the notebook. <br />On GitHub, the HTML representation is unable to render, please try loading this page with nbviewer.org.</b></div><div class=\"sk-container\" hidden><div class=\"sk-item\"><div class=\"sk-estimator sk-toggleable\"><input class=\"sk-toggleable__control sk-hidden--visually\" id=\"sk-estimator-id-5\" type=\"checkbox\" checked><label for=\"sk-estimator-id-5\" class=\"sk-toggleable__label sk-toggleable__label-arrow\">SVC</label><div class=\"sk-toggleable__content\"><pre>SVC(random_state=1)</pre></div></div></div></div></div>"
            ],
            "text/plain": [
              "SVC(random_state=1)"
            ]
          },
          "execution_count": 53,
          "metadata": {},
          "output_type": "execute_result"
        }
      ],
      "source": [
        "svm_model.fit(x_train, y_train)"
      ]
    },
    {
      "cell_type": "code",
      "execution_count": 54,
      "metadata": {
        "id": "bZULyIcCxVrl"
      },
      "outputs": [],
      "source": [
        "predict = svm_model.predict(x_test)"
      ]
    },
    {
      "cell_type": "code",
      "execution_count": 55,
      "metadata": {
        "colab": {
          "base_uri": "https://localhost:8080/"
        },
        "id": "x5veDX9exabN",
        "outputId": "912ed33c-1a6f-4537-d863-f8305297b265"
      },
      "outputs": [
        {
          "data": {
            "text/plain": [
              "0.9998685594111462"
            ]
          },
          "execution_count": 55,
          "metadata": {},
          "output_type": "execute_result"
        }
      ],
      "source": [
        "accuracy_score(y_test, predict)"
      ]
    },
    {
      "cell_type": "code",
      "execution_count": 56,
      "metadata": {
        "colab": {
          "base_uri": "https://localhost:8080/"
        },
        "id": "a_WQ0W0OxjRM",
        "outputId": "13b4f2f3-79aa-4335-a4a3-6dbb90d812b4"
      },
      "outputs": [
        {
          "name": "stdout",
          "output_type": "stream",
          "text": [
            "              precision    recall  f1-score   support\n",
            "\n",
            "           0       1.00      1.00      1.00      3097\n",
            "           1       1.00      1.00      1.00      4511\n",
            "\n",
            "    accuracy                           1.00      7608\n",
            "   macro avg       1.00      1.00      1.00      7608\n",
            "weighted avg       1.00      1.00      1.00      7608\n",
            "\n"
          ]
        }
      ],
      "source": [
        "print(classification_report(y_test, predict))"
      ]
    }
  ],
  "metadata": {
    "colab": {
      "authorship_tag": "ABX9TyP+r1+UPBQDW0fC99LcRIgG",
      "include_colab_link": true,
      "provenance": []
    },
    "kernelspec": {
      "display_name": "Python 3",
      "name": "python3"
    },
    "language_info": {
      "name": "python"
    }
  },
  "nbformat": 4,
  "nbformat_minor": 0
}
