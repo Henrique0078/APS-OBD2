{
  "nbformat": 4,
  "nbformat_minor": 0,
  "metadata": {
    "colab": {
      "provenance": [],
      "authorship_tag": "ABX9TyMnv9Ixs11RalTxrfNnWlwu"
    },
    "kernelspec": {
      "name": "python3",
      "display_name": "Python 3"
    },
    "language_info": {
      "name": "python"
    }
  },
  "cells": [
    {
      "cell_type": "code",
      "source": [
        "#Database = https://github.com/eron93br/carOBD"
      ],
      "metadata": {
        "id": "MFzEHPo0BOJp"
      },
      "execution_count": null,
      "outputs": []
    },
    {
      "cell_type": "code",
      "execution_count": 1,
      "metadata": {
        "id": "3Zq3NfwHYyHp"
      },
      "outputs": [],
      "source": [
        "import pandas as pd\n",
        "import numpy as np\n",
        "import seaborn as sns\n",
        "import matplotlib.pyplot as plt\n",
        "import plotly.express as px"
      ]
    },
    {
      "cell_type": "code",
      "source": [
        "def lista_de_arquivo(valor,arquivo):\n",
        "  listas = []\n",
        "  for i in range(1, valor + 1):\n",
        "    lista = pd.read_csv(f'/content/{arquivo}{i}.csv')\n",
        "    listas.append(lista)\n",
        "\n",
        "  lista_concatenada = pd.concat(listas, ignore_index=True)\n",
        "\n",
        "  return lista_concatenada"
      ],
      "metadata": {
        "id": "J5p3r68b-zU7"
      },
      "execution_count": 2,
      "outputs": []
    },
    {
      "cell_type": "code",
      "source": [
        "idle = lista_de_arquivo(47,'idle')\n",
        "len(idle)"
      ],
      "metadata": {
        "colab": {
          "base_uri": "https://localhost:8080/"
        },
        "id": "uwA3vuS85tJS",
        "outputId": "ccc10fc8-a395-4ffd-ac5b-d93fe819af97"
      },
      "execution_count": 3,
      "outputs": [
        {
          "output_type": "execute_result",
          "data": {
            "text/plain": [
              "72226"
            ]
          },
          "metadata": {},
          "execution_count": 3
        }
      ]
    },
    {
      "cell_type": "code",
      "source": [
        "long = lista_de_arquivo(12,'long')\n",
        "len(long)"
      ],
      "metadata": {
        "colab": {
          "base_uri": "https://localhost:8080/"
        },
        "id": "HgUeOdqdq6uq",
        "outputId": "39a55b4b-b5b2-4e11-e1ec-5e34732616d2"
      },
      "execution_count": 4,
      "outputs": [
        {
          "output_type": "execute_result",
          "data": {
            "text/plain": [
              "60947"
            ]
          },
          "metadata": {},
          "execution_count": 4
        }
      ]
    },
    {
      "cell_type": "code",
      "source": [
        "ufpe = lista_de_arquivo(18,'ufpe')\n",
        "len(ufpe)"
      ],
      "metadata": {
        "colab": {
          "base_uri": "https://localhost:8080/"
        },
        "id": "HVaLLaeL8212",
        "outputId": "e62e8109-5e04-447a-bf2e-6750963c8e93"
      },
      "execution_count": 5,
      "outputs": [
        {
          "output_type": "execute_result",
          "data": {
            "text/plain": [
              "34066"
            ]
          },
          "metadata": {},
          "execution_count": 5
        }
      ]
    },
    {
      "cell_type": "code",
      "source": [
        "drive = lista_de_arquivo(13,'drive')\n",
        "len(drive)"
      ],
      "metadata": {
        "colab": {
          "base_uri": "https://localhost:8080/"
        },
        "id": "HZ1YQNH-9DCo",
        "outputId": "4174aa3d-364f-4b1e-fddf-b6c4f9b78fbc"
      },
      "execution_count": 6,
      "outputs": [
        {
          "output_type": "execute_result",
          "data": {
            "text/plain": [
              "39779"
            ]
          },
          "metadata": {},
          "execution_count": 6
        }
      ]
    },
    {
      "cell_type": "code",
      "source": [
        "live = lista_de_arquivo(39,'live')\n",
        "len(live)"
      ],
      "metadata": {
        "colab": {
          "base_uri": "https://localhost:8080/"
        },
        "id": "_Ojev1ab9R5S",
        "outputId": "9a4ed44f-479e-4f57-cc4d-ec0c87b52dea"
      },
      "execution_count": 7,
      "outputs": [
        {
          "output_type": "execute_result",
          "data": {
            "text/plain": [
              "97281"
            ]
          },
          "metadata": {},
          "execution_count": 7
        }
      ]
    },
    {
      "cell_type": "code",
      "source": [
        "soma = len(idle) + len(long) + len(ufpe) + len(drive) + len(live)\n",
        "soma"
      ],
      "metadata": {
        "colab": {
          "base_uri": "https://localhost:8080/"
        },
        "id": "I8Jqze1l9e07",
        "outputId": "cf065bdc-4619-4d8e-d32f-3671011d80b7"
      },
      "execution_count": 8,
      "outputs": [
        {
          "output_type": "execute_result",
          "data": {
            "text/plain": [
              "304299"
            ]
          },
          "metadata": {},
          "execution_count": 8
        }
      ]
    },
    {
      "cell_type": "code",
      "source": [
        "idleO2 = idle['FUEL_AIR_COMMANDED_EQUIV_RATIO ()']\n",
        "longO2 = long['FUEL_AIR_COMMANDED_EQUIV_RATIO ()']\n",
        "ufpeO2 = ufpe['FUEL_AIR_COMMANDED_EQUIV_RATIO ()']\n",
        "driveO2 = drive['FUEL_AIR_COMMANDED_EQUIV_RATIO ()']\n",
        "liveO2 = live['FUEL_AIR_COMMANDED_EQUIV_RATIO ()']\n",
        "\n",
        "listaO2 = []\n",
        "listaO2.append(idleO2)\n",
        "listaO2.append(longO2)\n",
        "listaO2.append(ufpeO2)\n",
        "listaO2.append(driveO2)\n",
        "listaO2.append(liveO2)\n",
        "listaO2_concatenada = pd.concat(listaO2, ignore_index=True)"
      ],
      "metadata": {
        "colab": {
          "base_uri": "https://localhost:8080/"
        },
        "id": "Pd08uoh0-I3W",
        "outputId": "6a63bd5a-86c4-489c-e5bd-979e661d76a2"
      },
      "execution_count": 17,
      "outputs": [
        {
          "output_type": "execute_result",
          "data": {
            "text/plain": [
              "30430.0"
            ]
          },
          "metadata": {},
          "execution_count": 17
        }
      ]
    },
    {
      "cell_type": "code",
      "source": [
        "listaO2_concatenada\n",
        "\n",
        "listateste = []\n",
        "for i in listaO2_concatenada:\n",
        "  listateste.append(i)\n",
        "\n",
        "base_dados = []\n",
        "for i in listateste:\n",
        "  if i > 100:\n",
        "    base_dados.append(1)\n",
        "  else:\n",
        "    base_dados.append(0)"
      ],
      "metadata": {
        "id": "fACo6e8aCcdj"
      },
      "execution_count": 12,
      "outputs": []
    },
    {
      "cell_type": "code",
      "source": [
        "automotive_O2_tratado = np.array(base_dados)\n",
        "np.unique(automotive_O2_tratado, return_counts=True)"
      ],
      "metadata": {
        "colab": {
          "base_uri": "https://localhost:8080/"
        },
        "id": "3J8kfEedCeI7",
        "outputId": "55c41436-c822-4104-ef6e-ba6f38fde134"
      },
      "execution_count": 13,
      "outputs": [
        {
          "output_type": "execute_result",
          "data": {
            "text/plain": [
              "(array([0, 1]), array([121685, 182614]))"
            ]
          },
          "metadata": {},
          "execution_count": 13
        }
      ]
    },
    {
      "cell_type": "code",
      "source": [
        "automotive_O2_tratado = np.append(automotive_O2_tratado, 1)"
      ],
      "metadata": {
        "id": "rTggLLak-4mE"
      },
      "execution_count": 18,
      "outputs": []
    },
    {
      "cell_type": "code",
      "source": [
        "len(automotive_O2_tratado)"
      ],
      "metadata": {
        "colab": {
          "base_uri": "https://localhost:8080/"
        },
        "id": "owaKLmCn-55m",
        "outputId": "80b6ddfe-0e04-402e-d79a-4936c8de7bab"
      },
      "execution_count": 19,
      "outputs": [
        {
          "output_type": "execute_result",
          "data": {
            "text/plain": [
              "304300"
            ]
          },
          "metadata": {},
          "execution_count": 19
        }
      ]
    },
    {
      "cell_type": "code",
      "source": [
        "automotive_O2_distribuido = np.reshape(automotive_O2_tratado, (-1, 10))"
      ],
      "metadata": {
        "id": "uCCcM9Lb-8fz"
      },
      "execution_count": 20,
      "outputs": []
    },
    {
      "cell_type": "code",
      "source": [
        "automotive_O2_distribuido.shape"
      ],
      "metadata": {
        "colab": {
          "base_uri": "https://localhost:8080/"
        },
        "id": "46D3QJ94_Aej",
        "outputId": "879a28f7-d9d6-453a-e1d6-4d30b89166f5"
      },
      "execution_count": 21,
      "outputs": [
        {
          "output_type": "execute_result",
          "data": {
            "text/plain": [
              "(30430, 10)"
            ]
          },
          "metadata": {},
          "execution_count": 21
        }
      ]
    },
    {
      "cell_type": "code",
      "source": [
        "soma_10_colunas = np.sum(automotive_O2_distribuido[:, :10], axis=1)\n",
        "\n",
        "y = np.where(soma_10_colunas >= 7, 1, 0)"
      ],
      "metadata": {
        "id": "PUwrsSOn_IiD"
      },
      "execution_count": 23,
      "outputs": []
    },
    {
      "cell_type": "code",
      "source": [
        "len(y)"
      ],
      "metadata": {
        "colab": {
          "base_uri": "https://localhost:8080/"
        },
        "id": "BmaLK5AgAUHC",
        "outputId": "76cf2e6d-984d-4077-b3bd-15d226e08031"
      },
      "execution_count": 25,
      "outputs": [
        {
          "output_type": "execute_result",
          "data": {
            "text/plain": [
              "30430"
            ]
          },
          "metadata": {},
          "execution_count": 25
        }
      ]
    },
    {
      "cell_type": "code",
      "source": [
        "np.unique(y, return_counts=True)"
      ],
      "metadata": {
        "colab": {
          "base_uri": "https://localhost:8080/"
        },
        "id": "U3ifkcifBfcn",
        "outputId": "2094f0ef-a973-4a5d-945c-e665a1d5f3fd"
      },
      "execution_count": 27,
      "outputs": [
        {
          "output_type": "execute_result",
          "data": {
            "text/plain": [
              "(array([0, 1]), array([12198, 18232]))"
            ]
          },
          "metadata": {},
          "execution_count": 27
        }
      ]
    },
    {
      "cell_type": "code",
      "source": [
        "18232/30430 #Esse é o percentual minimo que a IA tem que ter"
      ],
      "metadata": {
        "colab": {
          "base_uri": "https://localhost:8080/"
        },
        "id": "qZN0rSnXBot-",
        "outputId": "0e694896-84de-4d94-b24b-ee2715bf4865"
      },
      "execution_count": 28,
      "outputs": [
        {
          "output_type": "execute_result",
          "data": {
            "text/plain": [
              "0.5991455800197174"
            ]
          },
          "metadata": {},
          "execution_count": 28
        }
      ]
    },
    {
      "cell_type": "code",
      "source": [
        "from sklearn.model_selection import train_test_split"
      ],
      "metadata": {
        "id": "kbrI-AedB-XV"
      },
      "execution_count": 29,
      "outputs": []
    },
    {
      "cell_type": "code",
      "source": [
        "x_train, x_test, y_train, y_test = train_test_split(automotive_O2_distribuido, y, test_size = 0.25, random_state = 0)"
      ],
      "metadata": {
        "id": "IIERzmxrB7LN"
      },
      "execution_count": 30,
      "outputs": []
    },
    {
      "cell_type": "code",
      "source": [
        "x_train.shape"
      ],
      "metadata": {
        "colab": {
          "base_uri": "https://localhost:8080/"
        },
        "id": "V9ZKj3knCOjW",
        "outputId": "66b6f092-a329-48cd-bf5c-835517bc601d"
      },
      "execution_count": 32,
      "outputs": [
        {
          "output_type": "execute_result",
          "data": {
            "text/plain": [
              "(22822, 10)"
            ]
          },
          "metadata": {},
          "execution_count": 32
        }
      ]
    },
    {
      "cell_type": "code",
      "source": [
        "x_test.shape"
      ],
      "metadata": {
        "colab": {
          "base_uri": "https://localhost:8080/"
        },
        "id": "AR5QQUTTCQ1M",
        "outputId": "1336fd1a-4125-4735-93a0-51b2cfc515db"
      },
      "execution_count": 33,
      "outputs": [
        {
          "output_type": "execute_result",
          "data": {
            "text/plain": [
              "(7608, 10)"
            ]
          },
          "metadata": {},
          "execution_count": 33
        }
      ]
    },
    {
      "cell_type": "code",
      "source": [
        "y_train.shape"
      ],
      "metadata": {
        "colab": {
          "base_uri": "https://localhost:8080/"
        },
        "id": "TyNWM2bKCSv7",
        "outputId": "5d67d3e1-36fe-4956-d7f4-1e3fb8549632"
      },
      "execution_count": 37,
      "outputs": [
        {
          "output_type": "execute_result",
          "data": {
            "text/plain": [
              "(22822,)"
            ]
          },
          "metadata": {},
          "execution_count": 37
        }
      ]
    },
    {
      "cell_type": "code",
      "source": [
        "y_test.shape"
      ],
      "metadata": {
        "colab": {
          "base_uri": "https://localhost:8080/"
        },
        "id": "MBu6eSLNCXs7",
        "outputId": "55019ef2-0bc1-43f4-ed01-2fe105371ed3"
      },
      "execution_count": 38,
      "outputs": [
        {
          "output_type": "execute_result",
          "data": {
            "text/plain": [
              "(7608,)"
            ]
          },
          "metadata": {},
          "execution_count": 38
        }
      ]
    },
    {
      "cell_type": "code",
      "source": [
        "import pickle\n",
        "with open('O2_dataset.pkl', mode = 'wb') as f:\n",
        "  pickle.dump([x_train, y_train, x_test, y_test], f)\n",
        "\n",
        "#Aqui eu basicamente salvei a base de dados num arquivo."
      ],
      "metadata": {
        "id": "miKCjqJwCWds"
      },
      "execution_count": 41,
      "outputs": []
    },
    {
      "cell_type": "code",
      "source": [],
      "metadata": {
        "id": "DXhSdq-nC7Va"
      },
      "execution_count": null,
      "outputs": []
    }
  ]
}